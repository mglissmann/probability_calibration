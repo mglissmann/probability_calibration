{
 "cells": [
  {
   "cell_type": "code",
   "execution_count": null,
   "id": "cf70ffe9",
   "metadata": {},
   "outputs": [],
   "source": [
    "import numpy as np\n",
    "import pandas as pd\n",
    "\n",
    "# Model Selection\n",
    "from sklearn.model_selection import train_test_split\n",
    "\n",
    "# Plotting\n",
    "import matplotlib.pyplot as plt\n",
    "import seaborn as sns\n",
    "\n",
    "# Models\n",
    "from sklearn.ensemble import RandomForestClassifier\n",
    "from sklearn.linear_model import LogisticRegression\n",
    "from sklearn.naive_bayes import GaussianNB\n",
    "from sklearn.svm import SVC\n",
    "\n",
    "# Datasets\n",
    "from sklearn.datasets import load_breast_cancer\n",
    "\n",
    "# Warnings\n",
    "import warnings\n",
    "warnings.filterwarnings('ignore')"
   ]
  },
  {
   "cell_type": "markdown",
   "id": "5120527d",
   "metadata": {},
   "source": [
    "### Load Data"
   ]
  },
  {
   "attachments": {},
   "cell_type": "markdown",
   "id": "f36194bc",
   "metadata": {},
   "source": [
    "### Test"
   ]
  },
  {
   "cell_type": "code",
   "execution_count": null,
   "id": "9c7891d4",
   "metadata": {},
   "outputs": [],
   "source": [
    "X, y = load_breast_cancer(return_X_y=True, as_frame=True)"
   ]
  },
  {
   "cell_type": "code",
   "execution_count": null,
   "id": "f32fe894",
   "metadata": {},
   "outputs": [],
   "source": [
    "features = X.columns[0:10]"
   ]
  },
  {
   "cell_type": "code",
   "execution_count": null,
   "id": "c99df0f4",
   "metadata": {},
   "outputs": [],
   "source": [
    "X = X[features]"
   ]
  },
  {
   "cell_type": "code",
   "execution_count": null,
   "id": "4316e2d6",
   "metadata": {},
   "outputs": [],
   "source": [
    "print(\"X shape:\", X.shape)\n",
    "print(\"y shape:\", y.shape)"
   ]
  },
  {
   "cell_type": "code",
   "execution_count": null,
   "id": "e2819adc",
   "metadata": {},
   "outputs": [],
   "source": [
    "# y is a series so i convert it to data frame\n",
    "y = pd.DataFrame(data=y, columns=['target'])"
   ]
  },
  {
   "cell_type": "code",
   "execution_count": null,
   "id": "f8aec9e5",
   "metadata": {},
   "outputs": [],
   "source": [
    "# Split the dataset into train, test, and validation sets\n",
    "X_train, X_test, y_train, y_test = train_test_split(X, y, test_size=0.2, random_state=42)\n",
    "X_train, X_val, y_train, y_val = train_test_split(X_train, y_train, test_size=0.25, random_state=42)\n",
    "\n",
    "# Print the shapes of the datasets\n",
    "print(\"Train set:\", X_train.shape, y_train.shape)\n",
    "print(\"Validation set:\", X_val.shape, y_val.shape)\n",
    "print(\"Test set:\", X_test.shape, y_test.shape)"
   ]
  },
  {
   "cell_type": "markdown",
   "id": "e98a9fd0",
   "metadata": {},
   "source": [
    "### Train Models and get Probabilities"
   ]
  },
  {
   "cell_type": "code",
   "execution_count": null,
   "id": "a8a53354",
   "metadata": {},
   "outputs": [],
   "source": [
    "model_to_clf = {\n",
    "    'rf': RandomForestClassifier,\n",
    "    'lgr': LogisticRegression,\n",
    "    'svc': SVC,\n",
    "    'nb': GaussianNB\n",
    "               }"
   ]
  },
  {
   "cell_type": "code",
   "execution_count": null,
   "id": "c18c5908",
   "metadata": {},
   "outputs": [],
   "source": [
    "model_to_probs = {}\n",
    "model_str_to_trained_model = {}\n",
    "\n",
    "for model_str, model in model_to_clf.items():\n",
    "    print(model)\n",
    "    if model == SVC:\n",
    "        clf = model(probability=True)\n",
    "    elif model == LogisticRegression:\n",
    "        clf = model(solver='liblinear')\n",
    "    else:\n",
    "        clf = model()\n",
    "        \n",
    "    clf.fit(X_train, y_train.squeeze())\n",
    "    \n",
    "    pred_probs_train = clf.predict_proba(X_train)[:,1]\n",
    "    pred_probs_test = clf.predict_proba(X_test)[:,1]\n",
    "    pred_probs_valid = clf.predict_proba(X_val)[:,1]\n",
    "    \n",
    "    model_to_probs[model_str] = {'train': pred_probs_train, 'test': pred_probs_test, 'valid': pred_probs_valid}\n",
    "    \n",
    "    plt.figure(figsize=(20,4))\n",
    "    \n",
    "    plt.subplot(1,2,1)\n",
    "    sns.histplot(pred_probs_train)\n",
    "    plt.title(f\"{model_str} - train\", fontsize=20)\n",
    "    \n",
    "    plt.subplot(1,2,2)\n",
    "    sns.histplot(pred_probs_test)\n",
    "    plt.title(f\"{model_str} - test\", fontsize=20)\n",
    "    \n",
    "    model_str_to_trained_model[model_str] = clf"
   ]
  },
  {
   "cell_type": "markdown",
   "id": "f88a0ef5",
   "metadata": {},
   "source": [
    "### Plot Predicted Values vs. Empirical Values"
   ]
  },
  {
   "cell_type": "code",
   "execution_count": null,
   "id": "ae698354",
   "metadata": {},
   "outputs": [],
   "source": [
    "for model_str, pred_prob_dict in model_to_probs.items():\n",
    "    pred_probs = pred_prob_dict['test']\n",
    "\n",
    "    pred_probs_space = np.linspace(pred_probs.min(), pred_probs.max(), 20)\n",
    "\n",
    "    empirical_probs = []\n",
    "    pred_probs_midpoints = []\n",
    "\n",
    "    for i in range(len(pred_probs_space)-1):\n",
    "        empirical_probs.append(np.mean(y_test[(pred_probs > pred_probs_space[i]) & (pred_probs < pred_probs_space[i+1])]))\n",
    "        pred_probs_midpoints.append((pred_probs_space[i] + pred_probs_space[i+1])/2)\n",
    "\n",
    "    plt.figure(figsize=(10,4))\n",
    "    plt.plot(pred_probs_midpoints, empirical_probs, linewidth=2, marker='o')\n",
    "    plt.title(f\"{model_str}\", fontsize=20)\n",
    "    plt.xlabel('predicted prob', fontsize=14)\n",
    "    plt.ylabel('empirical prob', fontsize=14)\n",
    "    \n",
    "    plt.plot([0,1],[0,1],linestyle='--',color='gray')\n",
    "    \n",
    "    plt.legend(['original', 'ideal'], fontsize=20)"
   ]
  },
  {
   "cell_type": "markdown",
   "id": "12a40cdf",
   "metadata": {},
   "source": [
    "### Calibrate"
   ]
  },
  {
   "cell_type": "code",
   "execution_count": null,
   "id": "382697e3",
   "metadata": {},
   "outputs": [],
   "source": [
    "model_str_to_calibrator = {}\n",
    "\n",
    "for model_str, pred_prob_dict in model_to_probs.items():\n",
    "    #train calibration model\n",
    "    lr_model = LogisticRegression()\n",
    "    lr_model.fit(pred_prob_dict['test'].reshape(-1,1), y_test)\n",
    "    \n",
    "    pred_probs = pred_prob_dict['valid']\n",
    "\n",
    "    pred_probs_space = np.linspace(pred_probs.min(), pred_probs.max(), 10)\n",
    "\n",
    "    empirical_probs = []\n",
    "    pred_probs_midpoints = []\n",
    "\n",
    "    for i in range(len(pred_probs_space)-1):\n",
    "        empirical_probs.append(np.mean(y_val[(pred_probs > pred_probs_space[i]) & (pred_probs < pred_probs_space[i+1])]))\n",
    "        pred_probs_midpoints.append((pred_probs_space[i] + pred_probs_space[i+1])/2)\n",
    "\n",
    "    calibrated_probs = lr_model.predict_proba(np.array([0.0]+pred_probs_midpoints+[1.0]).reshape(-1,1))[:,1]\n",
    "    \n",
    "    plt.figure(figsize=(10,4))\n",
    "    plt.plot(pred_probs_midpoints, empirical_probs, linewidth=2, marker='o')\n",
    "    plt.title(f\"{model_str}\", fontsize=20)\n",
    "    plt.xlabel('predicted prob', fontsize=14)\n",
    "    plt.ylabel('empirical prob', fontsize=14)\n",
    "    \n",
    "    plt.plot([0.0]+pred_probs_midpoints+[1.0], calibrated_probs, linewidth=2, marker='o')\n",
    "    \n",
    "    plt.plot([0,1],[0,1],linestyle='--',color='gray')\n",
    "    \n",
    "    plt.legend(['original', 'calibrated', 'ideal'], fontsize=20)\n",
    "    \n",
    "    model_str_to_calibrator[model_str] = lr_model"
   ]
  },
  {
   "cell_type": "markdown",
   "id": "061fc402",
   "metadata": {},
   "source": [
    "# How do we use this?"
   ]
  },
  {
   "cell_type": "markdown",
   "id": "7a0a24c9",
   "metadata": {},
   "source": [
    "### (1) Get base model"
   ]
  },
  {
   "cell_type": "code",
   "execution_count": null,
   "id": "f7876179",
   "metadata": {},
   "outputs": [],
   "source": [
    "clf = model_str_to_trained_model['rf']"
   ]
  },
  {
   "cell_type": "markdown",
   "id": "a83c9b4f",
   "metadata": {},
   "source": [
    "### (2) Get calibration layer"
   ]
  },
  {
   "cell_type": "code",
   "execution_count": null,
   "metadata": {},
   "outputs": [],
   "source": [
    "lr = model_str_to_calibrator['rf']"
   ]
  },
  {
   "cell_type": "markdown",
   "id": "e170fa69",
   "metadata": {},
   "source": [
    "### (3) Get calibrated predicted probability using model + calibration"
   ]
  },
  {
   "cell_type": "code",
   "execution_count": null,
   "id": "bad85d35",
   "metadata": {},
   "outputs": [],
   "source": [
    "new_sample = np.array([[1, 0, 0.6, 110, 1, 0, 0, 1, 85, 170]])"
   ]
  },
  {
   "cell_type": "code",
   "execution_count": null,
   "id": "14bab652",
   "metadata": {},
   "outputs": [],
   "source": [
    "uncal_prob = clf.predict_proba(new_sample)[:,1][0]\n",
    "print('Uncalibrated Prob:', uncal_prob)"
   ]
  },
  {
   "cell_type": "code",
   "execution_count": null,
   "id": "2feeab76",
   "metadata": {},
   "outputs": [],
   "source": [
    "cal_prob = lr.predict_proba(np.array([[uncal_prob]]))[:,1][0]\n",
    "print('Calibrated Prob:', cal_prob)"
   ]
  }
 ],
 "metadata": {
  "kernelspec": {
   "display_name": "Python 3 (ipykernel)",
   "language": "python",
   "name": "python3"
  },
  "language_info": {
   "codemirror_mode": {
    "name": "ipython",
    "version": 3
   },
   "file_extension": ".py",
   "mimetype": "text/x-python",
   "name": "python",
   "nbconvert_exporter": "python",
   "pygments_lexer": "ipython3",
   "version": "3.9.12"
  }
 },
 "nbformat": 4,
 "nbformat_minor": 5
}
